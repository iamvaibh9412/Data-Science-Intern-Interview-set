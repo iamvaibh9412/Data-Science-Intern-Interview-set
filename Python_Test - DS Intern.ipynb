{
  "nbformat": 4,
  "nbformat_minor": 0,
  "metadata": {
    "colab": {
      "provenance": []
    },
    "kernelspec": {
      "name": "python3",
      "display_name": "Python 3"
    },
    "language_info": {
      "name": "python"
    }
  },
  "cells": [
    {
      "cell_type": "code",
      "source": [
        "import pandas as pd\n",
        "\n",
        "df = {\n",
        "    \"Order ID\": list(range(101, 131)),\n",
        "    \"Customer Name\": [\n",
        "        \"Alice\", \"Bob\", \"Charlie\", \"Alice\", \"Daniel\", \"Emily\", \"Frank\", \"George\", \"Alice\", \"Helen\",\n",
        "        \"Ian\", \"Jane\", \"Kevin\", \"Lisa\", \"Mike\", \"Nancy\", \"Oliver\", \"Peter\", \"Queenie\", \"Ryan\",\n",
        "        \"Steve\", \"Tina\", \"Uma\", \"Victor\", \"Wendy\", \"Xavier\", \"Yara\", \"Zara\", \"Alex\", \"Bruce\"\n",
        "    ],\n",
        "    \"Region\": [\n",
        "        \"East\", \"West\", \"South\", \"East\", \"North\", \"West\", \"South\", \"East\", \"East\", \"North\",\n",
        "        \"West\", \"South\", \"North\", \"East\", \"West\", \"South\", \"East\", \"North\", \"South\", \"West\",\n",
        "        \"East\", \"North\", \"West\", \"South\", \"East\", \"North\", \"West\", \"South\", \"East\", \"North\"\n",
        "    ],\n",
        "    \"Product\": [\n",
        "        \"Laptop\", \"Tablet\", \"Headphones\", \"Monitor\", \"Keyboard\", \"Laptop\", \"Mouse\", \"Tablet\", \"Headphones\", \"Monitor\",\n",
        "        \"Mouse\", \"Laptop\", \"Keyboard\", \"Tablet\", \"Laptop\", \"Headphones\", \"Monitor\", \"Mouse\", \"Keyboard\", \"Laptop\",\n",
        "        \"Tablet\", \"Headphones\", \"Mouse\", \"Monitor\", \"Keyboard\", \"Tablet\", \"Laptop\", \"Headphones\", \"Monitor\", \"Laptop\"\n",
        "    ],\n",
        "    \"Category\": [\n",
        "        \"Electronics\", \"Electronics\", \"Accessories\", \"Electronics\", \"Accessories\", \"Electronics\", \"Accessories\", \"Electronics\", \"Accessories\", \"Electronics\",\n",
        "        \"Accessories\", \"Electronics\", \"Accessories\", \"Electronics\", \"Electronics\", \"Accessories\", \"Electronics\", \"Accessories\", \"Accessories\", \"Electronics\",\n",
        "        \"Electronics\", \"Accessories\", \"Accessories\", \"Electronics\", \"Accessories\", \"Electronics\", \"Electronics\", \"Accessories\", \"Electronics\", \"Electronics\"\n",
        "    ],\n",
        "    \"Quantity\": [\n",
        "        1, 2, 3, 1, 5, 1, 4, 2, 2, 1,\n",
        "        6, 1, 2, 1, 2, 3, 2, 5, 3, 1,\n",
        "        2, 2, 3, 1, 4, 1, 1, 4, 2, 1\n",
        "    ],\n",
        "    \"Unit Price\": [\n",
        "        70000, 25000, 3000, 15000, 1500, 70000, 800, 26000, 3000, 14000,\n",
        "        800, 69000, 1500, 25500, 71000, 3000, 14500, 850, 1500, 70500,\n",
        "        26500, 2900, 850, 14800, 1600, 25000, 71000, 3100, 15200, 69500\n",
        "    ],\n",
        "    \"Order Date\": pd.date_range(start=\"2025-01-01\", periods=30, freq='D'),\n",
        "    \"Payment Mode\": [\n",
        "        \"Credit Card\", \"Debit Card\", \"UPI\", \"Net Banking\", \"Credit Card\", \"Debit Card\", \"UPI\", \"Credit Card\", \"UPI\", \"Net Banking\",\n",
        "        \"UPI\", \"Credit Card\", \"Debit Card\", \"Net Banking\", \"Credit Card\", \"Debit Card\", \"Credit Card\", \"UPI\", \"Net Banking\", \"Debit Card\",\n",
        "        \"Credit Card\", \"Debit Card\", \"Credit Card\", \"UPI\", \"Net Banking\", \"Debit Card\", \"UPI\", \"Credit Card\", \"Debit Card\", \"Credit Card\"\n",
        "    ]\n",
        "}\n",
        "\n",
        "\n",
        "#Convert the dictionary/data into dataframe and print first 10 rows and last 10 rows\n"
      ],
      "metadata": {
        "id": "IKV0p3rxDABt"
      },
      "execution_count": null,
      "outputs": []
    },
    {
      "cell_type": "code",
      "source": [
        "#Q1. Add a new column total_sales product of quantity and price"
      ],
      "metadata": {
        "id": "UDIZCw5wDWKC"
      },
      "execution_count": null,
      "outputs": []
    },
    {
      "cell_type": "code",
      "source": [
        "#Q2. Show total quantity sold per region"
      ],
      "metadata": {
        "id": "0W85z6QvDhTW"
      },
      "execution_count": null,
      "outputs": []
    },
    {
      "cell_type": "code",
      "source": [
        "#Q3. Find the most sold product (by quantity)"
      ],
      "metadata": {
        "id": "UaoqEU7LDtBc"
      },
      "execution_count": null,
      "outputs": []
    },
    {
      "cell_type": "code",
      "source": [
        "#Q4. Filter all orders made using \"UPI\" as payment"
      ],
      "metadata": {
        "id": "UW9VlxETD15o"
      },
      "execution_count": null,
      "outputs": []
    },
    {
      "cell_type": "code",
      "source": [
        "#Q5. Export the modified DataFrame to a new CSV"
      ],
      "metadata": {
        "id": "3uio32bDEA4f"
      },
      "execution_count": null,
      "outputs": []
    }
  ]
}